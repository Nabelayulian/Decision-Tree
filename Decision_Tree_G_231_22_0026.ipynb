{
  "nbformat": 4,
  "nbformat_minor": 0,
  "metadata": {
    "colab": {
      "private_outputs": true,
      "provenance": []
    },
    "kernelspec": {
      "name": "python3",
      "display_name": "Python 3"
    },
    "language_info": {
      "name": "python"
    }
  },
  "cells": [
    {
      "cell_type": "code",
      "execution_count": null,
      "metadata": {
        "id": "P6os-fLxYDTh"
      },
      "outputs": [],
      "source": [
        "from matplotlib import pyplot as plt\n",
        "from sklearn import datasets\n",
        "from sklearn.tree import DecisionTreeClassifier"
      ]
    },
    {
      "cell_type": "code",
      "source": [
        "# prepare the data data\n",
        "iris = datasets.load_iris()\n",
        "x = iris.data\n",
        "y = iris.target"
      ],
      "metadata": {
        "id": "0DdgXAaPYuqz"
      },
      "execution_count": null,
      "outputs": []
    },
    {
      "cell_type": "code",
      "source": [
        "#fit the classifier with default hyper-parameters\n",
        "clf = DecisionTreeClassifier(random_state=1234)\n",
        "model = clf.fit(x, y)"
      ],
      "metadata": {
        "id": "YRRBy_sMY7Gi"
      },
      "execution_count": null,
      "outputs": []
    },
    {
      "cell_type": "code",
      "source": [
        "text_representation = tree.export_text(clf)\n",
        "print(text_representation)"
      ],
      "metadata": {
        "id": "Odb09rv5f_8R"
      },
      "execution_count": null,
      "outputs": []
    },
    {
      "cell_type": "code",
      "source": [
        "with open(\"decistion_tree.log\", \"w\") as fout:\n",
        "  fout.write(text_representation)\n"
      ],
      "metadata": {
        "id": "b8IUtO2ugvU_"
      },
      "execution_count": null,
      "outputs": []
    },
    {
      "cell_type": "code",
      "source": [
        "fig = plt.figure(figsize=(25,20))\n",
        "_ = tree.plot_tree(clf,\n",
        "                   feature_names=iris.feature_names,\n",
        "                   class_names=iris.target_names,\n",
        "                   filled=True)"
      ],
      "metadata": {
        "id": "x0ROHaFwiYSh"
      },
      "execution_count": null,
      "outputs": []
    },
    {
      "cell_type": "code",
      "source": [
        "fig.savefig(\"decition_tree_nim.png\")"
      ],
      "metadata": {
        "id": "U8DE-XCBjIFS"
      },
      "execution_count": null,
      "outputs": []
    },
    {
      "cell_type": "code",
      "source": [
        "import graphviz\n",
        "from sklearn.tree import export_graphviz\n",
        "#Dot data\n",
        "dot_data = export_graphviz(clf, out_file=None,\n",
        "                           feature_names=iris.feature_names,\n",
        "                           class_names=iris.target_names,\n",
        "                           filled=True, rounded=True,\n",
        "                           special_characters=True)\n",
        "#Draw graph\n",
        "graph = graphviz.Source(dot_data)\n",
        "graph.render(\"decision_tree\")\n",
        "graph"
      ],
      "metadata": {
        "id": "2I04D0cKjXiZ"
      },
      "execution_count": null,
      "outputs": []
    }
  ]
}